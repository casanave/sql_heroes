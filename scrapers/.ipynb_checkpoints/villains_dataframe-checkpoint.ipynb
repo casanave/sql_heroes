{
 "cells": [
  {
   "cell_type": "markdown",
   "metadata": {},
   "source": [
    "# scrape 100 from comic vine wiki\n"
   ]
  },
  {
   "cell_type": "code",
   "execution_count": 1,
   "metadata": {},
   "outputs": [],
   "source": [
    "import pandas as pd\n",
    "import requests \n",
    "\n",
    "from selenium import webdriver \n",
    "from webdriver_manager.chrome import ChromeDriverManager\n",
    "from selenium.webdriver.common.by import By"
   ]
  },
  {
   "cell_type": "code",
   "execution_count": 2,
   "metadata": {},
   "outputs": [],
   "source": [
    "driver = webdriver.Chrome('/Users/b0ihazard/Desktop/chromedriver')\n",
    "article = \"https://comicvine.gamespot.com/profile/idea/lists/top-100-comic-book-villains-ign/46166/\"\n",
    "go_article = driver.get(article)\n",
    "\n",
    "name_list = []\n",
    "real_names = []\n",
    "aliases_lists = []\n",
    "gender_list = []\n",
    "char_types = []\n",
    "powers_list = []\n",
    "\n",
    "\n",
    "link_list = []\n",
    "\n",
    "all_lists = name_list, real_names, aliases_lists, gender_list, char_types, powers_list\n",
    "\n",
    "grab_links = driver.find_elements(By.CSS_SELECTOR, \"h3\")"
   ]
  },
  {
   "cell_type": "code",
   "execution_count": 3,
   "metadata": {},
   "outputs": [
    {
     "name": "stdout",
     "output_type": "stream",
     "text": [
      "110\n",
      "1. Magneto\n",
      "2. Joker\n",
      "3. Doctor Doom\n",
      "4. Lex Luthor\n",
      "5. Galactus\n",
      "6. Darkseid\n",
      "7. Ra's al Ghul\n",
      "8. Loki\n",
      "9. Phoenix Force\n",
      "10. Kingpin\n",
      "11. Catwoman\n",
      "12. Two-Face\n",
      "13. Norman Osborn\n",
      "14. Red Skull\n",
      "15. Sinestro\n",
      "16. Black Adam\n",
      "17. Brainiac\n",
      "18. Mystique\n",
      "19. Juggernaut\n",
      "20. Bullseye\n",
      "21. Ozymandias\n",
      "22. Venom\n",
      "23. Ultron\n",
      "24. Apocalypse\n",
      "25. Bizarro\n",
      "26. Kid Marvelman\n",
      "27. Captain Cold\n",
      "28. Doctor Octopus\n",
      "29. Mr. Sinister\n",
      "30. General Zod\n",
      "31. Eobard Thawne\n",
      "32. Deathstroke\n",
      "33. Cyborg Superman\n",
      "34. Bane\n",
      "35. Gorilla Grodd\n",
      "36. Vandal Savage\n",
      "37. Zoom\n",
      "38. Sentinels\n",
      "39. Shredder\n",
      "40. Baron Helmut Zemo\n",
      "41. Mongul\n",
      "42. Talia al Ghul\n",
      "43. Deadshot\n",
      "44. Sabretooth\n",
      "45. Harley Quinn\n",
      "46. Doomsday\n",
      "47. Thanos\n",
      "48. Mephisto\n",
      "49. Anti-Monitor\n",
      "50. Cassandra Nova\n",
      "51. Penguin\n",
      "52. Metallo\n",
      "53. Kraven the Hunter\n",
      "54. Abomination\n",
      "55. Sebastian Shaw\n",
      "56. Dormammu\n",
      "57. Hobgoblin (Kingsley)\n",
      "58. Scarecrow\n",
      "59. Riddler\n",
      "60. Amanda Waller\n",
      "61. Parasite\n",
      "62. Lizard\n",
      "63. Leader\n",
      "64. Poison Ivy\n",
      "65. Kang\n",
      "66. Herr Starr\n",
      "67. Mr. Freeze\n",
      "68. Lucifer Morningstar\n",
      "69. Cheetah (Minerva)\n",
      "70. William Stryker\n",
      "71. Thunderbolt Ross\n",
      "72. Sandman\n",
      "73. Clayface (Karlo)\n",
      "74. Saint of Killers\n",
      "75. Magog\n",
      "76. Mr. Mxyzptlk\n",
      "77. Proteus\n",
      "78. Lady Deathstrike\n",
      "79. Mirror Master (McCulloch)\n",
      "80. Prometheus\n",
      "81. Mandarin\n",
      "82. Dr. Sivana\n",
      "83. Grigori Rasputin\n",
      "84. Arthur Light\n",
      "85. Mysterio\n",
      "86. The Governor\n",
      "87. Electro\n",
      "88. Hunter Rose\n",
      "89. Shade\n",
      "90. Carnage\n",
      "92. Parallax\n",
      "93. Omni-Man\n",
      "94. Annihilus\n",
      "95. Omega Red\n",
      "96. Despero\n",
      "97. Violator\n",
      "98. Mastermind\n",
      "99. Fin Fang Foom\n",
      "100. M.O.D.O.K.\n",
      "\n",
      "\n",
      "\n",
      "\n",
      "\n",
      "\n",
      "\n",
      "\n",
      "\n",
      "\n",
      "\n"
     ]
    }
   ],
   "source": [
    "print(len(grab_links))\n",
    "\n",
    "for link in grab_links:\n",
    "    print(link.text)"
   ]
  },
  {
   "cell_type": "code",
   "execution_count": 4,
   "metadata": {},
   "outputs": [],
   "source": [
    "# for link in grab_links:\n",
    "#     grab_links.pop()"
   ]
  },
  {
   "cell_type": "code",
   "execution_count": 5,
   "metadata": {},
   "outputs": [],
   "source": [
    "# print(len(grab_links))"
   ]
  },
  {
   "cell_type": "code",
   "execution_count": 6,
   "metadata": {},
   "outputs": [],
   "source": [
    "def super_name(name_list):\n",
    "\n",
    "    try:\n",
    "        super_name = driver.find_element(By.XPATH, ('//*[@id=\"default-content\"]/aside/div[4]/table/tbody/tr[1]/td')).text\n",
    "    except:\n",
    "        super_name = \"N/A\"\n",
    "        \n",
    "    name_list.append(super_name)\n",
    "    print(super_name)"
   ]
  },
  {
   "cell_type": "code",
   "execution_count": 7,
   "metadata": {},
   "outputs": [],
   "source": [
    "def real_name(real_names):\n",
    "\n",
    "    try:\n",
    "        real_name = driver.find_element(By.XPATH, ('//*[@id=\"default-content\"]/aside/div[4]/table/tbody/tr[2]/td')).text\n",
    "    except:\n",
    "        real_name = \"N/A\"\n",
    "        \n",
    "    real_names.append(real_name)"
   ]
  },
  {
   "cell_type": "code",
   "execution_count": 8,
   "metadata": {},
   "outputs": [],
   "source": [
    "def aliases(aliases_lists, char_aliases):\n",
    "    try:\n",
    "        aliases = driver.find_elements(By.XPATH, ('//*[@id=\"default-content\"]/aside/div[4]/table/tbody/tr[3]/td'))\n",
    "        for alias in aliases:\n",
    "                char_aliases.append(alias.text)\n",
    "    except:\n",
    "        aliases = \"N/A\"\n",
    "        \n",
    "    aliases_lists.append(char_aliases)"
   ]
  },
  {
   "cell_type": "code",
   "execution_count": 9,
   "metadata": {},
   "outputs": [],
   "source": [
    "def char_gender(gender_list):\n",
    "\n",
    "    try:\n",
    "        char_gender = driver.find_element(By.XPATH, ('//*[@id=\"default-content\"]/aside/div[4]/table/tbody/tr[6]/td')).text       \n",
    "    except:\n",
    "        char_gender = \"N/A\"   \n",
    "        \n",
    "    gender_list.append(char_gender)"
   ]
  },
  {
   "cell_type": "code",
   "execution_count": 10,
   "metadata": {},
   "outputs": [],
   "source": [
    "def char_type(char_types):\n",
    "\n",
    "    try:\n",
    "        char_type = driver.find_element(By.XPATH, ('//*[@id=\"default-content\"]/aside/div[4]/table/tbody/tr[7]/td')).text   \n",
    "    except:\n",
    "        char_type = \"N/A\"\n",
    "    char_types.append(char_type)"
   ]
  },
  {
   "cell_type": "code",
   "execution_count": 11,
   "metadata": {},
   "outputs": [],
   "source": [
    "def powers(powers_lists, char_powers):\n",
    "    try:        \n",
    "        powers = driver.find_elements(By.XPATH, ('//*[@id=\"default-content\"]/aside/div[4]/table/tbody/tr[12]/td'))\n",
    "        for power in powers:\n",
    "            char_powers.append(power.text)\n",
    "    except:\n",
    "        powers = \"N/A\"\n",
    "    powers_lists.append(char_powers)"
   ]
  },
  {
   "cell_type": "code",
   "execution_count": 12,
   "metadata": {},
   "outputs": [],
   "source": [
    "def get_villains(go_article):\n",
    "    char_aliases = []\n",
    "    char_powers = []\n",
    "    \n",
    "#     try:\n",
    "    \n",
    "    for raw_link in grab_links[::99]:\n",
    "        link_list.append(raw_link.text)\n",
    "\n",
    "        ## iterating over all the wikis to grab the details\n",
    "    for link in link_list:\n",
    "        char_aliases = []\n",
    "        char_powers = []\n",
    "\n",
    "        driver.execute_script(\"window.open('https://comicvine.gamespot.com/profile/idea/lists/top-100-comic-book-villains-ign/46166/')\")\n",
    "        char_page = driver.find_element(By.PARTIAL_LINK_TEXT, (link))\n",
    "        char_page.click()\n",
    "\n",
    "        super_name(name_list)\n",
    "        real_name(real_names)\n",
    "        aliases(aliases_lists, char_aliases)\n",
    "        char_gender(gender_list)\n",
    "        char_type(char_types)\n",
    "        powers(powers_list, char_powers)\n",
    "\n",
    "        driver.switch_to.window(driver.window_handles[-1])\n",
    "\n",
    "    return link_list\n",
    "    \n",
    "#     except:\n",
    "#         print(\"an error occured in your code!\")\n",
    "        \n",
    "#     finally:\n",
    "#         driver.quit()"
   ]
  },
  {
   "cell_type": "code",
   "execution_count": 13,
   "metadata": {},
   "outputs": [
    {
     "name": "stdout",
     "output_type": "stream",
     "text": [
      "Violator\n",
      "Mastermind\n",
      "Fin Fang Foom\n",
      "M.O.D.O.K.\n"
     ]
    },
    {
     "data": {
      "text/plain": [
       "['97. Violator', '98. Mastermind', '99. Fin Fang Foom', '100. M.O.D.O.K.']"
      ]
     },
     "execution_count": 13,
     "metadata": {},
     "output_type": "execute_result"
    }
   ],
   "source": [
    "get_villains(go_article)"
   ]
  },
  {
   "cell_type": "code",
   "execution_count": 14,
   "metadata": {},
   "outputs": [
    {
     "name": "stdout",
     "output_type": "stream",
     "text": [
      "['Violator', 'Mastermind', 'Fin Fang Foom', 'M.O.D.O.K.']\n",
      "['Violator', 'Jason Wyngarde', 'Fin Fang Foom', 'George Tarleton']\n",
      "[['Clown\\nViolator\\nHeart Surgeon'], ['Jason Wyngarde\\nNikos\\nThe Great Illusionist\\nMutant 143'], ['He Whose Limbs Shatter Mountains, and Whose Back Scrapes the Sun\\nLord Foom\\nSleeping Dragon'], ['George Tarleton\\nMental Organism Designed Only For Killing\\nDamocles Rivas\\nM.O.D.O.C.\\nMental Organism Designed Only For Computing\\nMental Organism Designed Only for Charisma\\nMental Organism Designed Only For Kristmas\\nScientist Supreme\\nMental Organism Designe']]\n",
      "['Male', 'Male', 'Male', 'Male']\n",
      "['God/Eternal', 'Mutant', 'Alien', 'Cyborg']\n",
      "[['Agility\\nBerserker Strength\\nClaws\\nCosmic Awareness\\nDivine Powers\\nEnergy Manipulation\\nFeral\\nFlame Breath\\nHellfire Control\\nImmortal\\nIntellect\\nInvulnerability\\nLeadership\\nLongevity\\nNecromancy\\nPhasing / Ghost\\nPossession\\nPower Mimicry\\nReality Manpulation\\nShape Shifter\\nSize Manipulation\\nStamina\\nSuper Speed\\nSuper Strength\\nTelepathy\\nTeleport\\nTime Manipulation\\nUnarmed Combat'], ['Chameleon\\nIllusion Casting\\nMesmerize\\nTelepathy\\nUnarmed Combat'], ['Berserker Strength\\nBlast Power\\nChemical Secretion\\nClaws\\nFeral\\nFlame Breath\\nFlight\\nHealing\\nImmortal\\nInvulnerability\\nLongevity\\nShape Shifter\\nSize Manipulation\\nSuper Strength\\nTelepathy\\nUnarmed Combat'], ['Agility\\nBlast Power\\nElectronic Disruption\\nElectronic interaction\\nEmpathy\\nFlight\\nForce Field\\nGadgets\\nHeat Generation\\nIllusion Casting\\nIntellect\\nLeadership\\nLevitation\\nLongevity\\nPsionic\\nPsychic\\nTechnopathy\\nTelekinesis\\nTelepathy\\nWeapon Master']]\n"
     ]
    }
   ],
   "source": [
    "for x in all_lists:\n",
    "    print (x)"
   ]
  },
  {
   "cell_type": "code",
   "execution_count": 15,
   "metadata": {},
   "outputs": [
    {
     "name": "stdout",
     "output_type": "stream",
     "text": [
      "4\n",
      "4\n",
      "4\n",
      "4\n",
      "4\n",
      "4\n"
     ]
    }
   ],
   "source": [
    "for x in all_lists:\n",
    "    print(len(x))"
   ]
  },
  {
   "cell_type": "markdown",
   "metadata": {},
   "source": [
    "# making the dataframe"
   ]
  },
  {
   "cell_type": "code",
   "execution_count": 16,
   "metadata": {},
   "outputs": [],
   "source": [
    "villains = pd.DataFrame()"
   ]
  },
  {
   "cell_type": "code",
   "execution_count": 17,
   "metadata": {},
   "outputs": [],
   "source": [
    "villains[\"name\"] = name_list\n",
    "villains[\"real names\"] = real_names\n",
    "villains[\"aliases\"] = aliases_lists\n",
    "villains[\"gender\"] = gender_list\n",
    "villains[\"charecter type\"] = char_types\n",
    "villains[\"powers\"] = powers_list"
   ]
  },
  {
   "cell_type": "code",
   "execution_count": 18,
   "metadata": {},
   "outputs": [
    {
     "data": {
      "text/plain": [
       "(4, 6)"
      ]
     },
     "execution_count": 18,
     "metadata": {},
     "output_type": "execute_result"
    }
   ],
   "source": [
    "villains.shape"
   ]
  },
  {
   "cell_type": "code",
   "execution_count": 19,
   "metadata": {},
   "outputs": [
    {
     "data": {
      "text/html": [
       "<div>\n",
       "<style scoped>\n",
       "    .dataframe tbody tr th:only-of-type {\n",
       "        vertical-align: middle;\n",
       "    }\n",
       "\n",
       "    .dataframe tbody tr th {\n",
       "        vertical-align: top;\n",
       "    }\n",
       "\n",
       "    .dataframe thead th {\n",
       "        text-align: right;\n",
       "    }\n",
       "</style>\n",
       "<table border=\"1\" class=\"dataframe\">\n",
       "  <thead>\n",
       "    <tr style=\"text-align: right;\">\n",
       "      <th></th>\n",
       "      <th>name</th>\n",
       "      <th>real names</th>\n",
       "      <th>aliases</th>\n",
       "      <th>gender</th>\n",
       "      <th>charecter type</th>\n",
       "      <th>powers</th>\n",
       "    </tr>\n",
       "  </thead>\n",
       "  <tbody>\n",
       "    <tr>\n",
       "      <th>0</th>\n",
       "      <td>Violator</td>\n",
       "      <td>Violator</td>\n",
       "      <td>[Clown\\nViolator\\nHeart Surgeon]</td>\n",
       "      <td>Male</td>\n",
       "      <td>God/Eternal</td>\n",
       "      <td>[Agility\\nBerserker Strength\\nClaws\\nCosmic Aw...</td>\n",
       "    </tr>\n",
       "    <tr>\n",
       "      <th>1</th>\n",
       "      <td>Mastermind</td>\n",
       "      <td>Jason Wyngarde</td>\n",
       "      <td>[Jason Wyngarde\\nNikos\\nThe Great Illusionist\\...</td>\n",
       "      <td>Male</td>\n",
       "      <td>Mutant</td>\n",
       "      <td>[Chameleon\\nIllusion Casting\\nMesmerize\\nTelep...</td>\n",
       "    </tr>\n",
       "    <tr>\n",
       "      <th>2</th>\n",
       "      <td>Fin Fang Foom</td>\n",
       "      <td>Fin Fang Foom</td>\n",
       "      <td>[He Whose Limbs Shatter Mountains, and Whose B...</td>\n",
       "      <td>Male</td>\n",
       "      <td>Alien</td>\n",
       "      <td>[Berserker Strength\\nBlast Power\\nChemical Sec...</td>\n",
       "    </tr>\n",
       "    <tr>\n",
       "      <th>3</th>\n",
       "      <td>M.O.D.O.K.</td>\n",
       "      <td>George Tarleton</td>\n",
       "      <td>[George Tarleton\\nMental Organism Designed Onl...</td>\n",
       "      <td>Male</td>\n",
       "      <td>Cyborg</td>\n",
       "      <td>[Agility\\nBlast Power\\nElectronic Disruption\\n...</td>\n",
       "    </tr>\n",
       "  </tbody>\n",
       "</table>\n",
       "</div>"
      ],
      "text/plain": [
       "            name       real names  \\\n",
       "0       Violator         Violator   \n",
       "1     Mastermind   Jason Wyngarde   \n",
       "2  Fin Fang Foom    Fin Fang Foom   \n",
       "3     M.O.D.O.K.  George Tarleton   \n",
       "\n",
       "                                             aliases gender charecter type  \\\n",
       "0                   [Clown\\nViolator\\nHeart Surgeon]   Male    God/Eternal   \n",
       "1  [Jason Wyngarde\\nNikos\\nThe Great Illusionist\\...   Male         Mutant   \n",
       "2  [He Whose Limbs Shatter Mountains, and Whose B...   Male          Alien   \n",
       "3  [George Tarleton\\nMental Organism Designed Onl...   Male         Cyborg   \n",
       "\n",
       "                                              powers  \n",
       "0  [Agility\\nBerserker Strength\\nClaws\\nCosmic Aw...  \n",
       "1  [Chameleon\\nIllusion Casting\\nMesmerize\\nTelep...  \n",
       "2  [Berserker Strength\\nBlast Power\\nChemical Sec...  \n",
       "3  [Agility\\nBlast Power\\nElectronic Disruption\\n...  "
      ]
     },
     "execution_count": 19,
     "metadata": {},
     "output_type": "execute_result"
    }
   ],
   "source": [
    "villains.head()"
   ]
  },
  {
   "cell_type": "markdown",
   "metadata": {},
   "source": [
    "# Cleaning the Data"
   ]
  },
  {
   "cell_type": "code",
   "execution_count": 20,
   "metadata": {},
   "outputs": [
    {
     "name": "stdout",
     "output_type": "stream",
     "text": [
      "<class 'pandas.core.frame.DataFrame'>\n",
      "RangeIndex: 4 entries, 0 to 3\n",
      "Data columns (total 6 columns):\n",
      " #   Column          Non-Null Count  Dtype \n",
      "---  ------          --------------  ----- \n",
      " 0   name            4 non-null      object\n",
      " 1   real names      4 non-null      object\n",
      " 2   aliases         4 non-null      object\n",
      " 3   gender          4 non-null      object\n",
      " 4   charecter type  4 non-null      object\n",
      " 5   powers          4 non-null      object\n",
      "dtypes: object(6)\n",
      "memory usage: 320.0+ bytes\n"
     ]
    }
   ],
   "source": [
    "villains.info()"
   ]
  },
  {
   "cell_type": "code",
   "execution_count": 21,
   "metadata": {},
   "outputs": [],
   "source": [
    "villains['aliases'] = villains['aliases'].astype(str)\n",
    "villains['powers'] = villains['powers'].astype(str)"
   ]
  },
  {
   "cell_type": "code",
   "execution_count": 22,
   "metadata": {},
   "outputs": [
    {
     "name": "stdout",
     "output_type": "stream",
     "text": [
      "<class 'pandas.core.frame.DataFrame'>\n",
      "RangeIndex: 4 entries, 0 to 3\n",
      "Data columns (total 6 columns):\n",
      " #   Column          Non-Null Count  Dtype \n",
      "---  ------          --------------  ----- \n",
      " 0   name            4 non-null      object\n",
      " 1   real names      4 non-null      object\n",
      " 2   aliases         4 non-null      object\n",
      " 3   gender          4 non-null      object\n",
      " 4   charecter type  4 non-null      object\n",
      " 5   powers          4 non-null      object\n",
      "dtypes: object(6)\n",
      "memory usage: 320.0+ bytes\n"
     ]
    }
   ],
   "source": [
    "villains.info()"
   ]
  },
  {
   "cell_type": "code",
   "execution_count": 23,
   "metadata": {},
   "outputs": [],
   "source": [
    "def reformat(string):\n",
    "    string = string.replace(\"\\\\n\", \", \").strip(\"[]\\'\")\n",
    "    return string"
   ]
  },
  {
   "cell_type": "code",
   "execution_count": 24,
   "metadata": {},
   "outputs": [],
   "source": [
    "villains['aliases'] = villains['aliases'].map(reformat)\n",
    "villains['powers'] = villains['powers'].map(reformat)"
   ]
  },
  {
   "cell_type": "code",
   "execution_count": 25,
   "metadata": {},
   "outputs": [
    {
     "data": {
      "text/html": [
       "<div>\n",
       "<style scoped>\n",
       "    .dataframe tbody tr th:only-of-type {\n",
       "        vertical-align: middle;\n",
       "    }\n",
       "\n",
       "    .dataframe tbody tr th {\n",
       "        vertical-align: top;\n",
       "    }\n",
       "\n",
       "    .dataframe thead th {\n",
       "        text-align: right;\n",
       "    }\n",
       "</style>\n",
       "<table border=\"1\" class=\"dataframe\">\n",
       "  <thead>\n",
       "    <tr style=\"text-align: right;\">\n",
       "      <th></th>\n",
       "      <th>name</th>\n",
       "      <th>real names</th>\n",
       "      <th>aliases</th>\n",
       "      <th>gender</th>\n",
       "      <th>charecter type</th>\n",
       "      <th>powers</th>\n",
       "    </tr>\n",
       "  </thead>\n",
       "  <tbody>\n",
       "    <tr>\n",
       "      <th>0</th>\n",
       "      <td>Violator</td>\n",
       "      <td>Violator</td>\n",
       "      <td>Clown, Violator, Heart Surgeon</td>\n",
       "      <td>Male</td>\n",
       "      <td>God/Eternal</td>\n",
       "      <td>Agility, Berserker Strength, Claws, Cosmic Awa...</td>\n",
       "    </tr>\n",
       "    <tr>\n",
       "      <th>1</th>\n",
       "      <td>Mastermind</td>\n",
       "      <td>Jason Wyngarde</td>\n",
       "      <td>Jason Wyngarde, Nikos, The Great Illusionist, ...</td>\n",
       "      <td>Male</td>\n",
       "      <td>Mutant</td>\n",
       "      <td>Chameleon, Illusion Casting, Mesmerize, Telepa...</td>\n",
       "    </tr>\n",
       "    <tr>\n",
       "      <th>2</th>\n",
       "      <td>Fin Fang Foom</td>\n",
       "      <td>Fin Fang Foom</td>\n",
       "      <td>He Whose Limbs Shatter Mountains, and Whose Ba...</td>\n",
       "      <td>Male</td>\n",
       "      <td>Alien</td>\n",
       "      <td>Berserker Strength, Blast Power, Chemical Secr...</td>\n",
       "    </tr>\n",
       "    <tr>\n",
       "      <th>3</th>\n",
       "      <td>M.O.D.O.K.</td>\n",
       "      <td>George Tarleton</td>\n",
       "      <td>George Tarleton, Mental Organism Designed Only...</td>\n",
       "      <td>Male</td>\n",
       "      <td>Cyborg</td>\n",
       "      <td>Agility, Blast Power, Electronic Disruption, E...</td>\n",
       "    </tr>\n",
       "  </tbody>\n",
       "</table>\n",
       "</div>"
      ],
      "text/plain": [
       "            name       real names  \\\n",
       "0       Violator         Violator   \n",
       "1     Mastermind   Jason Wyngarde   \n",
       "2  Fin Fang Foom    Fin Fang Foom   \n",
       "3     M.O.D.O.K.  George Tarleton   \n",
       "\n",
       "                                             aliases gender charecter type  \\\n",
       "0                     Clown, Violator, Heart Surgeon   Male    God/Eternal   \n",
       "1  Jason Wyngarde, Nikos, The Great Illusionist, ...   Male         Mutant   \n",
       "2  He Whose Limbs Shatter Mountains, and Whose Ba...   Male          Alien   \n",
       "3  George Tarleton, Mental Organism Designed Only...   Male         Cyborg   \n",
       "\n",
       "                                              powers  \n",
       "0  Agility, Berserker Strength, Claws, Cosmic Awa...  \n",
       "1  Chameleon, Illusion Casting, Mesmerize, Telepa...  \n",
       "2  Berserker Strength, Blast Power, Chemical Secr...  \n",
       "3  Agility, Blast Power, Electronic Disruption, E...  "
      ]
     },
     "execution_count": 25,
     "metadata": {},
     "output_type": "execute_result"
    }
   ],
   "source": [
    "villains.head()"
   ]
  },
  {
   "cell_type": "code",
   "execution_count": 26,
   "metadata": {},
   "outputs": [],
   "source": [
    "#villains.to_csv('villains.csv')"
   ]
  }
 ],
 "metadata": {
  "kernelspec": {
   "display_name": "Python 3",
   "language": "python",
   "name": "python3"
  },
  "language_info": {
   "codemirror_mode": {
    "name": "ipython",
    "version": 3
   },
   "file_extension": ".py",
   "mimetype": "text/x-python",
   "name": "python",
   "nbconvert_exporter": "python",
   "pygments_lexer": "ipython3",
   "version": "3.8.5"
  },
  "toc": {
   "base_numbering": 1,
   "nav_menu": {},
   "number_sections": true,
   "sideBar": true,
   "skip_h1_title": false,
   "title_cell": "Table of Contents",
   "title_sidebar": "Contents",
   "toc_cell": false,
   "toc_position": {},
   "toc_section_display": true,
   "toc_window_display": false
  }
 },
 "nbformat": 4,
 "nbformat_minor": 4
}
