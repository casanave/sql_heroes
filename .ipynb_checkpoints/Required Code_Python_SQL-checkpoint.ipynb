{
 "cells": [
  {
   "cell_type": "markdown",
   "metadata": {},
   "source": [
    "This document aims to itemize the Python/SQL code required for the SQL Heroes webiste to function as well as facilitate the development process by making it easier to assign work.\n",
    "\n",
    "The code given below are _at least_ snippets of larger completed work and their presence indicates the coding requirement has been met."
   ]
  },
  {
   "cell_type": "code",
   "execution_count": 2,
   "metadata": {
    "ExecuteTime": {
     "end_time": "2022-03-08T01:27:12.456540Z",
     "start_time": "2022-03-08T01:27:12.194264Z"
    }
   },
   "outputs": [],
   "source": [
    "import pandas as pd"
   ]
  },
  {
   "cell_type": "markdown",
   "metadata": {},
   "source": [
    "## Database Creation\n",
    "\n",
    "Full code for database creation and access is found in Emine_Superhero_SQL_Project.ipynb (currently on Emine branch) and Superhero_SQL_Project.ipynb "
   ]
  },
  {
   "cell_type": "code",
   "execution_count": null,
   "metadata": {},
   "outputs": [],
   "source": [
    "# this creates table\n",
    "cur.execute(\"\"\"CREATE TABLE HEROES (\n",
    "                                       hero_id INTEGER PRIMARY KEY,\n",
    "                                       name TEXT,\n",
    "                                       gender TEXT,\n",
    "                                       eye_color TEXT,\n",
    "                                       race TEXT,\n",
    "                                       hair_color TEXT,\n",
    "                                       height TEXT,\n",
    "                                       publisher TEXT,\n",
    "                                       skin_color TEXT,\n",
    "                                       alignment TEXT,\n",
    "                                       weight TEXT\n",
    "                                       );\n",
    "\"\"\")"
   ]
  },
  {
   "cell_type": "code",
   "execution_count": null,
   "metadata": {},
   "outputs": [],
   "source": [
    "# Iterate over the hire_info pandas df and populate the Hero_Info database table:\n",
    "error_lines = []\n",
    "for i in hero_info.index:\n",
    "    try:\n",
    "        hero_id = i\n",
    "        name = hero_info['name'][i]\n",
    "        gender = hero_info['Gender'][i]\n",
    "        eye_color = hero_info['Eye color'][i]\n",
    "        race = hero_info['Race'][i]\n",
    "        hair_color = hero_info['Hair color'][i]\n",
    "        height = hero_info['Height'][i]\n",
    "        publisher = hero_info['Publisher'][i]\n",
    "        skin_color = hero_info['Skin color'][i]\n",
    "        alignment = hero_info['Alignment'][i]\n",
    "        weight = hero_info['Weight'][i]\n",
    "\n",
    "        cur.execute(\"\"\"INSERT INTO HEROES (hero_id,\n",
    "                                              name, \n",
    "                                              gender, \n",
    "                                              eye_color, \n",
    "                                              race, \n",
    "                                              hair_color, \n",
    "                                              height, \n",
    "                                              publisher,\n",
    "                                              skin_color,\n",
    "                                              alignment,\n",
    "                                              weight)\n",
    "                    VALUES ('{}', '{}', '{}', '{}', '{}', '{}', '{}', '{}', '{}', '{}', '{}');\n",
    "                \"\"\".format(hero_id, name, gender, eye_color, race, hair_color, height, publisher, skin_color, alignment, weight))\n",
    "    except:\n",
    "        error_lines.append(i)"
   ]
  },
  {
   "cell_type": "markdown",
   "metadata": {},
   "source": [
    "## Return Query Results as DataFrame\n",
    "\n",
    "The presumption here is that query results will need to be presented as Python output. Please note that the below code sits within a for loop to establish that dynamic input would work on the overall query level as well as within the query.\n",
    "\n",
    "**TO DO**  \n",
    "- Confirm this with website dev. team  \n",
    "- Update to work with heroes db"
   ]
  },
  {
   "cell_type": "code",
   "execution_count": null,
   "metadata": {
    "run_control": {
     "marked": true
    }
   },
   "outputs": [],
   "source": [
    "#works with the SQL Table found in dsc-sql-selection (data.sqlite)\n",
    "\n",
    "names = ['Murphy', 'Patterson', 'Bow']\n",
    "\n",
    "query_test_df = pd.DataFrame()\n",
    "for x in names:\n",
    "    query = (f\"\"\"SELECT lastname, firstName FROM employees WHERE lastName = '{x}';\"\"\")\n",
    "    query_test_df = query_test_df.append(pd.read_sql(query, conn))\n",
    "\n",
    "query_test_df.reset_index(drop=True, inplace=True)\n",
    "query_test_df\n",
    "\n",
    "\n",
    "\n"
   ]
  },
  {
   "cell_type": "markdown",
   "metadata": {},
   "source": [
    "## Capture Query Results for Notepad \n",
    "\n",
    "The idea here is that upon starting the SQL Heroes game a new, empty, Notepad table is created.  Users can then choose via button click to \"Record\" the results of any query in said table for future reference.  \n",
    "\n",
    "**At this time psuedo code is presented as this idea requires group sign-off as other means may be simpler to implement.  Really I just think this is cool**"
   ]
  },
  {
   "cell_type": "code",
   "execution_count": null,
   "metadata": {},
   "outputs": [],
   "source": [
    "#initial table creation; thinking was to make this a very simple table with id and note fields so as to accomodate results\n",
    "# from tables w/ different numbers of columns\n",
    "\n",
    "\n",
    "cur.execute(\"\"\"CREATE TABLE NOTEPAD (\n",
    "                                       note_id INTEGER PRIMARY KEY,\n",
    "                                       note TEXT);\n",
    "            \"\"\")"
   ]
  },
  {
   "cell_type": "code",
   "execution_count": 4,
   "metadata": {
    "ExecuteTime": {
     "end_time": "2022-03-08T01:48:56.985604Z",
     "start_time": "2022-03-08T01:48:56.978609Z"
    }
   },
   "outputs": [
    {
     "ename": "SyntaxError",
     "evalue": "invalid syntax (<ipython-input-4-20303072236f>, line 3)",
     "output_type": "error",
     "traceback": [
      "\u001b[1;36m  File \u001b[1;32m\"<ipython-input-4-20303072236f>\"\u001b[1;36m, line \u001b[1;32m3\u001b[0m\n\u001b[1;33m    - query sqlite db\u001b[0m\n\u001b[1;37m            ^\u001b[0m\n\u001b[1;31mSyntaxError\u001b[0m\u001b[1;31m:\u001b[0m invalid syntax\n"
     ]
    }
   ],
   "source": [
    "## psuedo code\n",
    "\n",
    "- query sqlite db\n",
    "- put results into dataframe\n",
    "- if \"Record\" button on website pushed\n",
    "    - use .columns and for loop to concatenate rows values into single string\n",
    "    - INSERT INTO NOTEPAD each string, one by one\n",
    "        - alternately create new dataframe of string values\n",
    "        - INSERT INTO NOTEPAD dataframe\n",
    "- Notes element on website can display either Sqlite table OR concatenated query results Dataframe (whatever is easier)"
   ]
  },
  {
   "cell_type": "code",
   "execution_count": null,
   "metadata": {},
   "outputs": [],
   "source": []
  }
 ],
 "metadata": {
  "kernelspec": {
   "display_name": "Python (learn-env)",
   "language": "python",
   "name": "learn-env"
  },
  "language_info": {
   "codemirror_mode": {
    "name": "ipython",
    "version": 3
   },
   "file_extension": ".py",
   "mimetype": "text/x-python",
   "name": "python",
   "nbconvert_exporter": "python",
   "pygments_lexer": "ipython3",
   "version": "3.8.5"
  },
  "varInspector": {
   "cols": {
    "lenName": 16,
    "lenType": 16,
    "lenVar": 40
   },
   "kernels_config": {
    "python": {
     "delete_cmd_postfix": "",
     "delete_cmd_prefix": "del ",
     "library": "var_list.py",
     "varRefreshCmd": "print(var_dic_list())"
    },
    "r": {
     "delete_cmd_postfix": ") ",
     "delete_cmd_prefix": "rm(",
     "library": "var_list.r",
     "varRefreshCmd": "cat(var_dic_list()) "
    }
   },
   "types_to_exclude": [
    "module",
    "function",
    "builtin_function_or_method",
    "instance",
    "_Feature"
   ],
   "window_display": false
  }
 },
 "nbformat": 4,
 "nbformat_minor": 4
}
